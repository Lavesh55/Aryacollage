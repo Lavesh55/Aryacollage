{
 "cells": [
  {
   "cell_type": "code",
   "execution_count": null,
   "metadata": {},
   "outputs": [
    {
     "name": "stdout",
     "output_type": "stream",
     "text": [
      "    1 \n",
      "   1 1 \n",
      "  1 2 1 \n",
      " 1 3 3 1 \n",
      "1 4 6 4 1 \n"
     ]
    }
   ],
   "source": [
    "# 1 no of triangle\n",
    "def pascals_triangle(rows):\n",
    "    for i in range(rows):\n",
    "        \n",
    "        print(\" \" * (rows - i - 1), end=\"\")\n",
    "\n",
    "    \n",
    "        num = 1\n",
    "        for j in range(i + 1):\n",
    "            print(num, end=\" \")\n",
    "            num = num * (i - j)  \n",
    "        \n",
    "        print()  \n",
    "\n",
    "pascals_triangle(5)"
   ]
  },
  {
   "cell_type": "code",
   "execution_count": null,
   "metadata": {},
   "outputs": [
    {
     "name": "stdout",
     "output_type": "stream",
     "text": [
      "0\n",
      "1\n",
      "3\n",
      "4\n"
     ]
    }
   ],
   "source": [
    "#2 continue function\n",
    "for i in range(5):\n",
    "    if i == 2:\n",
    "        continue  \n",
    "    print(i)\n"
   ]
  },
  {
   "cell_type": "code",
   "execution_count": null,
   "metadata": {},
   "outputs": [
    {
     "name": "stdout",
     "output_type": "stream",
     "text": [
      "[(3, 4, 5), (5, 12, 13), (6, 8, 10), (7, 24, 25), (8, 15, 17), (9, 12, 15), (9, 40, 41), (10, 24, 26), (12, 16, 20), (12, 35, 37), (14, 48, 50), (15, 20, 25), (15, 36, 39), (16, 30, 34), (18, 24, 30), (20, 21, 29), (21, 28, 35), (24, 32, 40), (27, 36, 45), (30, 40, 50)]\n"
     ]
    }
   ],
   "source": [
    " #3   Pythagorean triplets  \n",
    "t = [(a, b, c) for a in range(1, 51) \n",
    "                      for b in range(a, 51) \n",
    "                      for c in range(b, 51) \n",
    "                      if a**2 + b**2 == c**2]\n",
    "\n",
    "\n",
    "print(t)"
   ]
  },
  {
   "cell_type": "code",
   "execution_count": null,
   "metadata": {},
   "outputs": [
    {
     "name": "stdout",
     "output_type": "stream",
     "text": [
      "15\n"
     ]
    }
   ],
   "source": [
    "#4 Consecutive number\n",
    "def max_consecutive_sum(nums, k):\n",
    "    if len(nums) < k or k <= 0:  \n",
    "        return None  \n",
    "\n",
    "    max_sum = current_sum = sum(nums[:k])\n",
    "\n",
    "   \n",
    "    for i in range(k, len(nums)):\n",
    "        current_sum += nums[i] - nums[i - k]  \n",
    "        max_sum = max(max_sum, current_sum)   \n",
    "\n",
    "    return max_sum\n",
    "\n",
    "nums = [2, 3, 5, 1, 6, 7, 2, 4]\n",
    "k = 3\n",
    "print(max_consecutive_sum(nums, k))  "
   ]
  },
  {
   "cell_type": "code",
   "execution_count": null,
   "metadata": {},
   "outputs": [
    {
     "name": "stdout",
     "output_type": "stream",
     "text": [
      "Inside function: [1, 2, 3, 4]\n",
      "Outside function: [1, 2, 3, 4]\n"
     ]
    }
   ],
   "source": [
    "#5 APPEND NEW ITEM\n",
    "def modify_list(lst, item):\n",
    "    lst.append(item)  \n",
    "    print(\"Inside function:\", lst)\n",
    "\n",
    "\n",
    "my_list = [1, 2, 3]\n",
    "modify_list(my_list, 4)\n",
    "\n",
    "print(\"Outside function:\", my_list) \n"
   ]
  },
  {
   "cell_type": "code",
   "execution_count": null,
   "metadata": {},
   "outputs": [
    {
     "name": "stdout",
     "output_type": "stream",
     "text": [
      "Fibonacci sequence: [0, 1, 1, 2, 3, 5, 8, 13, 21, 34, 55, 89, 144, 233, 377, 610, 987, 1597, 2584, 4181, 6765, 10946, 17711, 28657, 46368, 75025, 121393, 196418, 317811, 514229, 832040, 1346269, 2178309, 3524578, 5702887, 9227465, 14930352, 24157817, 39088169, 63245986, 102334155, 165580141, 267914296, 433494437, 701408733, 1134903170, 1836311903, 2971215073, 4807526976, 7778742049, 12586269025, 20365011074, 32951280099, 53316291173, 86267571272]\n"
     ]
    }
   ],
   "source": [
    "#6  fibbonacci series\n",
    "def fibonacci(n):\n",
    "    fib_sequence = []\n",
    "    a, b = 0, 1\n",
    "    for _ in range(n):\n",
    "        fib_sequence.append(a)\n",
    "        a, b = b, a + b\n",
    "    return fib_sequence\n",
    "\n",
    "\n",
    "num = int(input(\"Enter the number of terms: \"))\n",
    "\n",
    "\n",
    "if num <= 0:\n",
    "    print(\"Please enter a positive integer.\")\n",
    "else:\n",
    "    print(\"Fibonacci sequence:\", fibonacci(num))"
   ]
  },
  {
   "cell_type": "code",
   "execution_count": null,
   "metadata": {},
   "outputs": [],
   "source": []
  }
 ],
 "metadata": {
  "kernelspec": {
   "display_name": "Python 3",
   "language": "python",
   "name": "python3"
  },
  "language_info": {
   "codemirror_mode": {
    "name": "ipython",
    "version": 3
   },
   "file_extension": ".py",
   "mimetype": "text/x-python",
   "name": "python",
   "nbconvert_exporter": "python",
   "pygments_lexer": "ipython3",
   "version": "3.11.5"
  }
 },
 "nbformat": 4,
 "nbformat_minor": 2
}
