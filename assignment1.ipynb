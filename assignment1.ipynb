{
 "cells": [
  {
   "cell_type": "markdown",
   "metadata": {},
   "source": [
    "### Q1:How do lists and tuples differ in terms of mutability and performance? When would you choose one over the other?"
   ]
  },
  {
   "cell_type": "markdown",
   "metadata": {},
   "source": [
    "#### Ans: list is mutable and the tuples is unmutable and both are differnt\n"
   ]
  },
  {
   "cell_type": "markdown",
   "metadata": {},
   "source": [
    "### Q2: Explain how Python handles type conversion between different datatypes, such as between integers and floats or between strings andlists."
   ]
  },
  {
   "cell_type": "markdown",
   "metadata": {},
   "source": [
    "##### Ans:  Python automatically converts types in compatible operations.  We can also manually convert types using functions like int(), float(), str(), or list().  For example, int(\"10\") converts a string to an integer, and list(\"hello\") converts a string to a list of characters.  \n"
   ]
  },
  {
   "cell_type": "markdown",
   "metadata": {},
   "source": [
    "### Q3: Take a number and use the += operator to increase its value by 10."
   ]
  },
  {
   "cell_type": "code",
   "execution_count": 2,
   "metadata": {},
   "outputs": [
    {
     "name": "stdout",
     "output_type": "stream",
     "text": [
      "98\n"
     ]
    }
   ],
   "source": [
    "num=int(input(\"enter the number\"))\n",
    "num+=10\n",
    "print(num)"
   ]
  },
  {
   "cell_type": "markdown",
   "metadata": {},
   "source": [
    "### Write a Python program to check if a given year is a leap year or not.\n"
   ]
  },
  {
   "cell_type": "code",
   "execution_count": 7,
   "metadata": {},
   "outputs": [
    {
     "name": "stdout",
     "output_type": "stream",
     "text": [
      "not leap year\n"
     ]
    }
   ],
   "source": [
    "year=int(input(\"enter the number\"))\n",
    "if year%4==0:\n",
    "        print(\"leap year\")\n",
    "    \n",
    "else:\n",
    "        print(\"not leap year\")"
   ]
  },
  {
   "cell_type": "markdown",
   "metadata": {},
   "source": [
    "### Q5:Write a program that asks the user to enter their marks and displays their grade:\n",
    "##### 90-100: A\n",
    "##### 80-89: B\n",
    "##### 70-79: C\n",
    "##### 60-69: D\n",
    "##### Below 60: F"
   ]
  },
  {
   "cell_type": "code",
   "execution_count": 4,
   "metadata": {},
   "outputs": [
    {
     "name": "stdout",
     "output_type": "stream",
     "text": [
      "D\n"
     ]
    }
   ],
   "source": [
    "a=int(input(\"enter the marks\"))\n",
    "if 90 <=a & a <= 100:\n",
    "    print(\"A\")\n",
    "elif 80<=a& a <90:\n",
    "    print(\"B\")\n",
    "elif 70 <=a& a <80:\n",
    "    print(\"C\")\n",
    "elif 60 <=a& a <70:\n",
    "    print(\"D\")\n",
    "else:\n",
    "    print(\"F\")"
   ]
  }
 ],
 "metadata": {
  "kernelspec": {
   "display_name": "Python 3",
   "language": "python",
   "name": "python3"
  },
  "language_info": {
   "codemirror_mode": {
    "name": "ipython",
    "version": 3
   },
   "file_extension": ".py",
   "mimetype": "text/x-python",
   "name": "python",
   "nbconvert_exporter": "python",
   "pygments_lexer": "ipython3",
   "version": "3.11.5"
  }
 },
 "nbformat": 4,
 "nbformat_minor": 2
}
