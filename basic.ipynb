{
 "cells": [
  {
   "cell_type": "code",
   "execution_count": 1,
   "metadata": {},
   "outputs": [],
   "source": [
    "# print(\"whsj\")"
   ]
  },
  {
   "cell_type": "markdown",
   "metadata": {},
   "source": [
    "**variable**"
   ]
  },
  {
   "cell_type": "code",
   "execution_count": 2,
   "metadata": {},
   "outputs": [],
   "source": [
    "# a=3.8\n",
    "# print(type(a))"
   ]
  },
  {
   "cell_type": "markdown",
   "metadata": {},
   "source": [
    "string"
   ]
  },
  {
   "cell_type": "code",
   "execution_count": 3,
   "metadata": {},
   "outputs": [],
   "source": [
    "# str=\"python is easy\""
   ]
  },
  {
   "cell_type": "markdown",
   "metadata": {},
   "source": [
    "string method\n",
    "\n",
    "\n"
   ]
  },
  {
   "cell_type": "code",
   "execution_count": 4,
   "metadata": {},
   "outputs": [],
   "source": [
    "# str=\"Python is Easy\"\n",
    "# print(str.upper())\n",
    "# print(str.lower())\n",
    "# print(str.split())\n",
    "# print(str.strip())\n",
    "# print(str.replace(\"Easy\",\"we\"))\n",
    "# print(str.find(\"Easy\"))"
   ]
  },
  {
   "cell_type": "markdown",
   "metadata": {},
   "source": []
  },
  {
   "cell_type": "code",
   "execution_count": 5,
   "metadata": {},
   "outputs": [],
   "source": [
    "# str1=\"Python is Easy\"\n",
    "# str3=\"h\"\n",
    "# print(str1+str3)\n",
    "# print(str1+\" \"+str3)"
   ]
  },
  {
   "cell_type": "markdown",
   "metadata": {},
   "source": [
    "**tuple**\n",
    "\n",
    "it is unmutable"
   ]
  },
  {
   "cell_type": "code",
   "execution_count": 6,
   "metadata": {},
   "outputs": [],
   "source": [
    "# tup=(1,2.3,\"python\",True)\n",
    "# print(tup)\n"
   ]
  },
  {
   "cell_type": "markdown",
   "metadata": {},
   "source": [
    "operators"
   ]
  },
  {
   "cell_type": "code",
   "execution_count": 7,
   "metadata": {},
   "outputs": [],
   "source": [
    "# t=(1,2,334,5,54,22)\n",
    "# print(t+tup)\n",
    "# print(t*2)\n",
    "# print(t.count(3))\n"
   ]
  },
  {
   "cell_type": "code",
   "execution_count": null,
   "metadata": {},
   "outputs": [],
   "source": []
  },
  {
   "cell_type": "markdown",
   "metadata": {},
   "source": [
    "list\n",
    "\n",
    "it is mutable"
   ]
  },
  {
   "cell_type": "code",
   "execution_count": 8,
   "metadata": {},
   "outputs": [],
   "source": [
    "# lsr=[1,2,23,3,4,4,\"lavesh\"]\n",
    "# print(lsr)\n",
    "# #indexing\n",
    "# print(lsr[0])\n",
    "# #slicing\n",
    "# print(lsr[1:3])\n",
    "# #modifying\n",
    "# lsr[2]=\"python\"\n",
    "# print(lsr)\n",
    "# lsr.append(3)\n",
    "# print(lsr)\n",
    "# lsr.insert(2,3)\n",
    "# print(lsr)\n",
    "# lsr.remove(3)\n",
    "# print(lsr) \n",
    "# lsr.pop()\n",
    "# print(lsr)\n",
    "# lsr.reverse()\n",
    "# print(lsr)\n"
   ]
  },
  {
   "cell_type": "markdown",
   "metadata": {},
   "source": []
  },
  {
   "cell_type": "code",
   "execution_count": 9,
   "metadata": {},
   "outputs": [
    {
     "name": "stdout",
     "output_type": "stream",
     "text": [
      "ram sharma\n",
      "lavesh gurjar\n",
      "ram\n",
      "lavesh\n",
      "sharma\n",
      "gurjar\n"
     ]
    }
   ],
   "source": [
    "a={\n",
    "    \"ram\":\"sharma\",\n",
    "    \"lavesh\":\"gurjar\",\n",
    "    }\n",
    "# print(type(a))\n",
    "# a.keys()\n",
    "# a.values()\n",
    "for c,b in a.items():\n",
    "    print(c,b)\n",
    "for u in a.keys():\n",
    "    print(u)\n",
    "for v in a.values():\n",
    "    print(v)"
   ]
  },
  {
   "cell_type": "code",
   "execution_count": 10,
   "metadata": {},
   "outputs": [],
   "source": [
    "# for c,b in a.items():\n",
    "#     print(c,b)\n"
   ]
  },
  {
   "cell_type": "code",
   "execution_count": 11,
   "metadata": {},
   "outputs": [],
   "source": [
    "# print(print(\"helo\"))"
   ]
  },
  {
   "cell_type": "code",
   "execution_count": 12,
   "metadata": {},
   "outputs": [],
   "source": [
    "# print(True+True+False)"
   ]
  },
  {
   "cell_type": "code",
   "execution_count": 13,
   "metadata": {},
   "outputs": [],
   "source": [
    "# print=6\n",
    "# print(print)"
   ]
  },
  {
   "cell_type": "code",
   "execution_count": 14,
   "metadata": {},
   "outputs": [],
   "source": [
    "# v=1,22,3,3,432,22\n",
    "# print(type(a))"
   ]
  },
  {
   "cell_type": "markdown",
   "metadata": {},
   "source": [
    "Arithmetic operators"
   ]
  },
  {
   "cell_type": "code",
   "execution_count": 15,
   "metadata": {},
   "outputs": [],
   "source": [
    "# a=33\n",
    "# b=44\n",
    "# print(a+b)\n",
    "# print(a-b)\n",
    "# print(a*b)\n",
    "# print(a/b)\n",
    "# print(a**b)\n",
    "# print(a//b)\n",
    "# print(a%b)"
   ]
  },
  {
   "cell_type": "code",
   "execution_count": 16,
   "metadata": {},
   "outputs": [],
   "source": [
    "# print(a==b)\n",
    "# print(a!=b)\n",
    "# print(a>b)\n",
    "# print(a<b)\n",
    "# print(a>=b)\n",
    "# print(a<=b)"
   ]
  },
  {
   "cell_type": "code",
   "execution_count": 17,
   "metadata": {},
   "outputs": [],
   "source": [
    "# # print(a=b)\n",
    "# # print(a+=3)\n",
    "# # print(a-=4)\n",
    "# # print(a*=2)\n",
    "# # print(a/=2)\n",
    "# # print(a//=6)\n",
    "# a*=4\n",
    "# print(a)"
   ]
  },
  {
   "cell_type": "code",
   "execution_count": 18,
   "metadata": {},
   "outputs": [
    {
     "name": "stdout",
     "output_type": "stream",
     "text": [
      "false\n"
     ]
    }
   ],
   "source": [
    "a=3\n",
    "b=2\n",
    "# if a==b & b<a:\n",
    "#     print(\"gg\")\n",
    "# else:\n",
    "#     print(\"sdf\")\n",
    "# if a==b | b<a:\n",
    "#     print(\"gg\")\n",
    "# else:\n",
    "#     print(\"sdf\")\n",
    "if a==b ^ b<a:\n",
    "    print(\"true\")\n",
    "else:\n",
    "    print(\"false\")\n",
    "\n",
    "\n"
   ]
  },
  {
   "cell_type": "code",
   "execution_count": 19,
   "metadata": {},
   "outputs": [
    {
     "name": "stdout",
     "output_type": "stream",
     "text": [
      "<class 'dict'>\n",
      "{'a': 1, 'b': 2, 'c': 3, 'd': 4}\n"
     ]
    }
   ],
   "source": [
    "Lavesh={\"a\":1,\"b\":2,\"c\":3}\n",
    "print(type(Lavesh))\n",
    "Lavesh.update({\"d\":4})\n",
    "print(Lavesh)"
   ]
  },
  {
   "cell_type": "code",
   "execution_count": 20,
   "metadata": {},
   "outputs": [
    {
     "name": "stdout",
     "output_type": "stream",
     "text": [
      "not\n"
     ]
    }
   ],
   "source": [
    "name1=[\"lavesh\",\"gurjar\"]\n",
    "name2=\"gujar\"\n",
    "if name2 in name1:\n",
    "    print(\"yes\")\n",
    "elif name2 not in name1:\n",
    "    print(\"not\")\n",
    "\n",
    "    pass\n",
    "else:\n",
    "    pass\n",
    "\n"
   ]
  },
  {
   "cell_type": "code",
   "execution_count": 21,
   "metadata": {},
   "outputs": [
    {
     "name": "stdout",
     "output_type": "stream",
     "text": [
      "number is old\n"
     ]
    }
   ],
   "source": [
    "a=int(input(\"enter the number\"))\n",
    "if a%2==0:\n",
    "    print(\"number is even\")\n",
    "else:\n",
    "    print(\"number is old\")"
   ]
  },
  {
   "cell_type": "code",
   "execution_count": 22,
   "metadata": {},
   "outputs": [
    {
     "name": "stdout",
     "output_type": "stream",
     "text": [
      "c\n"
     ]
    }
   ],
   "source": [
    "a=int(input(\"enter the percentage\"))\n",
    "if a>=80:\n",
    "    print(\"a\")\n",
    "elif a<80 & a>=60:\n",
    "    print(\"b\")\n",
    "else:\n",
    "    print(\"c\")"
   ]
  },
  {
   "cell_type": "markdown",
   "metadata": {},
   "source": [
    "## for loop\n"
   ]
  },
  {
   "cell_type": "code",
   "execution_count": 23,
   "metadata": {},
   "outputs": [
    {
     "name": "stdout",
     "output_type": "stream",
     "text": [
      "0\n",
      "1\n",
      "2\n",
      "3\n",
      "4\n",
      "5\n",
      "6\n"
     ]
    }
   ],
   "source": [
    "for i in range(7):\n",
    "    print(i)"
   ]
  },
  {
   "cell_type": "code",
   "execution_count": 24,
   "metadata": {},
   "outputs": [
    {
     "name": "stdout",
     "output_type": "stream",
     "text": [
      "1\n",
      "2\n",
      "33\n",
      "45\n"
     ]
    }
   ],
   "source": [
    "lit=[1,2,33,45,4]\n",
    "for i in lit:\n",
    "    \n",
    "    print(i)\n",
    "    if i==45:\n",
    "        break\n",
    "    else:\n",
    "        pass"
   ]
  },
  {
   "cell_type": "code",
   "execution_count": 25,
   "metadata": {},
   "outputs": [
    {
     "name": "stdout",
     "output_type": "stream",
     "text": [
      "ram sharma\n",
      "lavesh gurjar\n",
      "ram\n",
      "lavesh\n",
      "sharma\n",
      "gurjar\n"
     ]
    }
   ],
   "source": [
    "a={\n",
    "    \"ram\":\"sharma\",\n",
    "    \"lavesh\":\"gurjar\",\n",
    "    }\n",
    "# print(type(a))\n",
    "# a.keys()\n",
    "# a.values()\n",
    "for c,b in a.items():\n",
    "    print(c,b)\n",
    "for u in a.keys():\n",
    "    print(u)\n",
    "for v in a.values():\n",
    "    print(v)"
   ]
  },
  {
   "cell_type": "markdown",
   "metadata": {},
   "source": [
    "# WHILE  LOOP"
   ]
  },
  {
   "cell_type": "code",
   "execution_count": 26,
   "metadata": {},
   "outputs": [
    {
     "name": "stdout",
     "output_type": "stream",
     "text": [
      "1\n",
      "2\n",
      "3\n",
      "4\n",
      "5\n",
      "6\n"
     ]
    }
   ],
   "source": [
    "count=1\n",
    "while count<=6:\n",
    "    print(count)\n",
    "    count +=1"
   ]
  },
  {
   "cell_type": "markdown",
   "metadata": {},
   "source": [
    "# Function\n",
    "it is create by **def** keyword"
   ]
  },
  {
   "cell_type": "code",
   "execution_count": 29,
   "metadata": {},
   "outputs": [
    {
     "name": "stdout",
     "output_type": "stream",
     "text": [
      "c\n"
     ]
    }
   ],
   "source": [
    "def name():\n",
    "    # c=a+b\n",
    "    print(\"c\")\n",
    "\n",
    "name()\n",
    "\n",
    "\n"
   ]
  },
  {
   "cell_type": "code",
   "execution_count": null,
   "metadata": {},
   "outputs": [],
   "source": []
  }
 ],
 "metadata": {
  "kernelspec": {
   "display_name": "Python 3",
   "language": "python",
   "name": "python3"
  },
  "language_info": {
   "codemirror_mode": {
    "name": "ipython",
    "version": 3
   },
   "file_extension": ".py",
   "mimetype": "text/x-python",
   "name": "python",
   "nbconvert_exporter": "python",
   "pygments_lexer": "ipython3",
   "version": "3.11.5"
  }
 },
 "nbformat": 4,
 "nbformat_minor": 2
}
