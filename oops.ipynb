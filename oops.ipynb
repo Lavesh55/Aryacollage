{
 "cells": [
  {
   "cell_type": "markdown",
   "metadata": {},
   "source": [
    "# Encapsulation"
   ]
  },
  {
   "cell_type": "code",
   "execution_count": null,
   "metadata": {},
   "outputs": [
    {
     "name": "stdout",
     "output_type": "stream",
     "text": [
      "hello\n"
     ]
    }
   ],
   "source": [
    "# class lavesh:\n",
    "#     def __init__(self,a,b,c):\n",
    "        \n",
    "#         self.__a=10 #  private variable\n",
    "#         self._b=20 #protected variable\n",
    "#         self.c=30 # public variable\n",
    "#         print(\"hello\")\n",
    "# class gurjar(lavesh):\n",
    "#     print(\"hello\")\n",
    "    \n",
    "\n"
   ]
  },
  {
   "cell_type": "code",
   "execution_count": null,
   "metadata": {},
   "outputs": [],
   "source": [
    "# class lavesh:\n",
    "#     def __init__(self,a,b,c):\n",
    "        \n",
    "#         self.__a=10 #  private variable\n",
    "#         self._b=20 #protected variable\n",
    "#         self.c=30 # public variable\n",
    "#         print(\"hello\")\n",
    "# obj=lavesh()"
   ]
  },
  {
   "cell_type": "markdown",
   "metadata": {},
   "source": []
  },
  {
   "cell_type": "code",
   "execution_count": 9,
   "metadata": {},
   "outputs": [
    {
     "name": "stdout",
     "output_type": "stream",
     "text": [
      "arya main\n"
     ]
    },
    {
     "data": {
      "text/plain": [
       "'arya'"
      ]
     },
     "execution_count": 9,
     "metadata": {},
     "output_type": "execute_result"
    }
   ],
   "source": [
    "class Arya:\n",
    "    def __init__(self):\n",
    "        self.__accountno=1234 #private\n",
    "        self._name=\"arya\" #protected\n",
    "        self.labno=306 #public\n",
    "\n",
    "class Student(arya):\n",
    "    print(\"arya main\")\n",
    "s1=student()\n",
    "s1.labno\n",
    "s1._name\n",
    "# s1,__accountno"
   ]
  },
  {
   "cell_type": "code",
   "execution_count": 12,
   "metadata": {},
   "outputs": [
    {
     "name": "stdout",
     "output_type": "stream",
     "text": [
      "hel\n"
     ]
    }
   ],
   "source": [
    "class Name:\n",
    "    def na(self):\n",
    "        print(\"hel\")\n",
    "\n",
    "n1=Name()\n",
    "n1.na()"
   ]
  },
  {
   "cell_type": "code",
   "execution_count": null,
   "metadata": {},
   "outputs": [],
   "source": []
  }
 ],
 "metadata": {
  "kernelspec": {
   "display_name": "Python 3",
   "language": "python",
   "name": "python3"
  },
  "language_info": {
   "codemirror_mode": {
    "name": "ipython",
    "version": 3
   },
   "file_extension": ".py",
   "mimetype": "text/x-python",
   "name": "python",
   "nbconvert_exporter": "python",
   "pygments_lexer": "ipython3",
   "version": "3.11.5"
  }
 },
 "nbformat": 4,
 "nbformat_minor": 2
}
